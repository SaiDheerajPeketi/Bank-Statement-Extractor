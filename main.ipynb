{
 "cells": [
  {
   "cell_type": "code",
   "id": "initial_id",
   "metadata": {
    "collapsed": true,
    "ExecuteTime": {
     "end_time": "2024-12-19T14:34:31.446643Z",
     "start_time": "2024-12-19T14:34:30.032676Z"
    }
   },
   "source": [
    "import camelot\n",
    "import pandas as pd\n",
    "from openpyxl import load_workbook\n",
    "from openpyxl.utils import get_column_letter    \n",
    "from openpyxl import Workbook"
   ],
   "outputs": [
    {
     "name": "stderr",
     "output_type": "stream",
     "text": [
      "C:\\Users\\SaiDheerajPeketi\\anaconda3\\envs\\venv\\lib\\site-packages\\pypdf\\_crypt_providers\\_cryptography.py:32: CryptographyDeprecationWarning: ARC4 has been moved to cryptography.hazmat.decrepit.ciphers.algorithms.ARC4 and will be removed from this module in 48.0.0.\n",
      "  from cryptography.hazmat.primitives.ciphers.algorithms import AES, ARC4\n"
     ]
    }
   ],
   "execution_count": 1
  },
  {
   "metadata": {
    "ExecuteTime": {
     "end_time": "2024-12-19T14:34:34.588560Z",
     "start_time": "2024-12-19T14:34:34.572935Z"
    }
   },
   "cell_type": "code",
   "source": [
    "pdf_file_name = 'test.pdf'\n",
    "excel_file_name = 'extracted_tables.xlsx'\n",
    "bank_name = 'Bank0'"
   ],
   "id": "1e94d0780ee5fd90",
   "outputs": [],
   "execution_count": 2
  },
  {
   "metadata": {
    "ExecuteTime": {
     "end_time": "2024-12-19T14:34:36.920110Z",
     "start_time": "2024-12-19T14:34:35.805550Z"
    }
   },
   "cell_type": "code",
   "source": "tables = camelot.read_pdf(pdf_file_name, pages='all', flavor='stream')",
   "id": "32bf74ff224df839",
   "outputs": [
    {
     "name": "stderr",
     "output_type": "stream",
     "text": [
      "Ignoring wrong pointing object 1 0 (offset 0)\n",
      "Ignoring wrong pointing object 1 0 (offset 0)\n",
      "Ignoring wrong pointing object 1 0 (offset 0)\n",
      "Ignoring wrong pointing object 1 0 (offset 0)\n"
     ]
    }
   ],
   "execution_count": 3
  },
  {
   "metadata": {
    "ExecuteTime": {
     "end_time": "2024-12-19T14:34:38.838981Z",
     "start_time": "2024-12-19T14:34:38.825568Z"
    }
   },
   "cell_type": "code",
   "source": "print(tables)",
   "id": "8240b96ff52de8a2",
   "outputs": [
    {
     "name": "stdout",
     "output_type": "stream",
     "text": [
      "<TableList n=6>\n"
     ]
    }
   ],
   "execution_count": 4
  },
  {
   "metadata": {
    "ExecuteTime": {
     "end_time": "2024-12-19T10:10:58.642345Z",
     "start_time": "2024-12-19T10:10:58.629346Z"
    }
   },
   "cell_type": "code",
   "source": [
    "# Create a new csv file and write tables to separate csv files\n",
    "for index, table in enumerate(tables):\n",
    "    table.df.to_csv('table_' + str(index) + '.csv', index=False)"
   ],
   "id": "87c93706324c0029",
   "outputs": [],
   "execution_count": 33
  },
  {
   "metadata": {
    "ExecuteTime": {
     "end_time": "2024-12-19T10:10:59.339278Z",
     "start_time": "2024-12-19T10:10:59.254742Z"
    }
   },
   "cell_type": "code",
   "source": [
    "# Create a new Excel workbook and write tables to separate sheets\n",
    "with pd.ExcelWriter(excel_file_name, engine='openpyxl') as writer:\n",
    "    for index, table in enumerate(tables):\n",
    "        # Convert table to DataFrame\n",
    "        df = table.df\n",
    "        \n",
    "        # Write each DataFrame to a different sheet\n",
    "        sheet_name = f'Table_{index + 1}'\n",
    "        df.to_excel(writer, sheet_name=sheet_name, index=False)\n",
    "        \n",
    "        # Access the worksheet through writer.sheets\n",
    "        worksheet = writer.sheets[sheet_name]\n",
    "        \n",
    "        # Adjust column widths\n",
    "        for col_idx, col_cells in enumerate(df.columns, start=1):\n",
    "            max_length = max(df[col_cells].astype(str).apply(len).max(), col_cells)\n",
    "            adjusted_width = max_length + 2  # Adding some padding\n",
    "            worksheet.column_dimensions[get_column_letter(col_idx)].width = adjusted_width\n",
    "\n",
    "print(f\"All tables have been extracted and saved to {excel_file_name}.\")"
   ],
   "id": "712d066df2c040bf",
   "outputs": [
    {
     "name": "stdout",
     "output_type": "stream",
     "text": [
      "All tables have been extracted and saved to extracted_tables.xlsx.\n"
     ]
    }
   ],
   "execution_count": 34
  },
  {
   "metadata": {},
   "cell_type": "markdown",
   "source": "## Bank 0",
   "id": "f405e7243faaae4c"
  },
  {
   "metadata": {
    "ExecuteTime": {
     "end_time": "2024-12-19T14:34:52.898536Z",
     "start_time": "2024-12-19T14:34:52.882903Z"
    }
   },
   "cell_type": "code",
   "source": "user_name = 'SAI DHEERAJ PEKETI'",
   "id": "f394369ece3c5be5",
   "outputs": [],
   "execution_count": 5
  },
  {
   "metadata": {
    "ExecuteTime": {
     "end_time": "2024-12-19T14:34:53.767426Z",
     "start_time": "2024-12-19T14:34:53.751799Z"
    }
   },
   "cell_type": "code",
   "source": [
    "import re\n",
    "\n",
    "def is_valid_date(text):\n",
    "    date_pattern = r'^\\d{2}-\\d{2}-\\d{4}$'\n",
    "    return bool(re.match(date_pattern, text))\n",
    "\n",
    "def is_valid_date_or_empty(text):\n",
    "    date_pattern = r'^\\d{2}-\\d{2}-\\d{4}$'\n",
    "    return bool(re.match(date_pattern, text)) or text == ''"
   ],
   "id": "f2078205969007bf",
   "outputs": [],
   "execution_count": 6
  },
  {
   "metadata": {
    "ExecuteTime": {
     "end_time": "2024-12-19T14:56:17.496402Z",
     "start_time": "2024-12-19T14:56:17.402540Z"
    }
   },
   "cell_type": "code",
   "source": [
    "new_rows = []\n",
    "for index, table in enumerate(tables):\n",
    "    if table.df.iloc[0, 0] == user_name:\n",
    "        print(f'Table_{index + 1}: {table.df.shape[1]}')\n",
    "        current_table_df = table.df.iloc[2:].reset_index(drop=True)\n",
    "        print(current_table_df.columns)\n",
    "        table_columns = ['DATE', 'NARRATION', 'CHQ.NO.', 'WITHDRAWAL (DR)', 'DEPOSIT (CR)', 'BALANCE']\n",
    "        if table.df.shape[1] == 7:\n",
    "            current_table_df.loc[current_table_df[1] != '', 2] = current_table_df[1]\n",
    "            current_table_df.drop([1], axis=1, inplace=True)\n",
    "        elif table.df.shape[1] == 6:\n",
    "            invalid_dates = ~current_table_df[0].apply(is_valid_date_or_empty)\n",
    "            current_table_df.loc[invalid_dates, 1] = current_table_df.loc[invalid_dates, 0]\n",
    "            current_table_df.loc[invalid_dates, 0] = ''\n",
    "        current_table_df.reset_index(drop=True, inplace=True)\n",
    "        current_table_df.columns = table_columns\n",
    "        isFirst = False\n",
    "        i = 0\n",
    "        \n",
    "        while i < len(current_table_df):\n",
    "            if is_valid_date(current_table_df.iloc[i, 0]):\n",
    "                isFirst = True\n",
    "                new_rows.append({\n",
    "                    'DATE': current_table_df.iloc[i, 0],\n",
    "                    'NARRATION': current_table_df.iloc[i, 1],\n",
    "                    'CHQ.NO.': current_table_df.iloc[i, 2],\n",
    "                    'WITHDRAWAL (DR)': current_table_df.iloc[i, 3],\n",
    "                    'DEPOSIT (CR)': current_table_df.iloc[i, 4],\n",
    "                    'BALANCE': current_table_df.iloc[i, 5]\n",
    "                })\n",
    "                i += 1\n",
    "            else:\n",
    "                if i + 1 < len(current_table_df) and i + 2 < len(current_table_df):\n",
    "                    new_rows.append({\n",
    "                        'DATE': current_table_df.iloc[i + 1, 0],\n",
    "                        'NARRATION': current_table_df.iloc[i, 1] + \" \" + current_table_df.iloc[i + 2, 1],\n",
    "                        'CHQ.NO.': current_table_df.iloc[i + 1, 2],\n",
    "                        'WITHDRAWAL (DR)': current_table_df.iloc[i + 1, 3],\n",
    "                        'DEPOSIT (CR)': current_table_df.iloc[i + 1, 4],\n",
    "                        'BALANCE': current_table_df.iloc[i + 1, 5]\n",
    "                    })\n",
    "                i += 3\n",
    "if len(new_rows) != 0:\n",
    "    table_df = pd.DataFrame(new_rows)\n",
    "    table_df['WITHDRAWAL (DR)'] = pd.to_numeric(table_df['WITHDRAWAL (DR)'], errors='coerce')\n",
    "    table_df['DEPOSIT (CR)'] = pd.to_numeric(table_df['DEPOSIT (CR)'], errors='coerce')\n",
    "    \n",
    "    # Write to Excel file\n",
    "    file_name = 'table.xlsx'\n",
    "    table_df.to_excel(file_name, index=False, engine='openpyxl')\n",
    "    workbook = load_workbook(file_name)\n",
    "    worksheet = workbook.active\n",
    "    \n",
    "    for col_idx, col_name in enumerate(table_df.columns, start=1):\n",
    "        max_length = max(\n",
    "            table_df[col_name].astype(str).apply(len).max(),\n",
    "            len(col_name)\n",
    "        )\n",
    "        adjusted_width = max_length + 2  # Add padding\n",
    "        worksheet.column_dimensions[get_column_letter(col_idx)].width = adjusted_width\n",
    "    \n",
    "    workbook.save(file_name)"
   ],
   "id": "7ac557abf5294654",
   "outputs": [
    {
     "name": "stdout",
     "output_type": "stream",
     "text": [
      "Table_2: 7\n",
      "RangeIndex(start=0, stop=7, step=1)\n",
      "Table_3: 6\n",
      "RangeIndex(start=0, stop=6, step=1)\n",
      "Table_4: 7\n",
      "RangeIndex(start=0, stop=7, step=1)\n"
     ]
    }
   ],
   "execution_count": 14
  },
  {
   "metadata": {},
   "cell_type": "code",
   "outputs": [],
   "execution_count": null,
   "source": "\n",
   "id": "e1c8640d63223b3f"
  }
 ],
 "metadata": {
  "kernelspec": {
   "display_name": "Python 3",
   "language": "python",
   "name": "python3"
  },
  "language_info": {
   "codemirror_mode": {
    "name": "ipython",
    "version": 2
   },
   "file_extension": ".py",
   "mimetype": "text/x-python",
   "name": "python",
   "nbconvert_exporter": "python",
   "pygments_lexer": "ipython2",
   "version": "2.7.6"
  }
 },
 "nbformat": 4,
 "nbformat_minor": 5
}
