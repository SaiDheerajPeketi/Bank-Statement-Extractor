{
 "cells": [
  {
   "cell_type": "code",
   "id": "initial_id",
   "metadata": {
    "collapsed": true,
    "ExecuteTime": {
     "end_time": "2024-12-19T09:33:15.668901Z",
     "start_time": "2024-12-19T09:33:14.821300Z"
    }
   },
   "source": [
    "import camelot\n",
    "import pandas as pd"
   ],
   "outputs": [
    {
     "name": "stderr",
     "output_type": "stream",
     "text": [
      "C:\\Users\\SaiDheerajPeketi\\anaconda3\\envs\\venv\\lib\\site-packages\\pypdf\\_crypt_providers\\_cryptography.py:32: CryptographyDeprecationWarning: ARC4 has been moved to cryptography.hazmat.decrepit.ciphers.algorithms.ARC4 and will be removed from this module in 48.0.0.\n",
      "  from cryptography.hazmat.primitives.ciphers.algorithms import AES, ARC4\n"
     ]
    }
   ],
   "execution_count": 1
  },
  {
   "metadata": {
    "ExecuteTime": {
     "end_time": "2024-12-19T09:52:22.242297Z",
     "start_time": "2024-12-19T09:52:21.106159Z"
    }
   },
   "cell_type": "code",
   "source": [
    "pdf_file_name = 'test.pdf'\n",
    "\n",
    "tables = camelot.read_pdf(pdf_file_name, pages='all', flavor='stream', strip_text='\\n')"
   ],
   "id": "1e94d0780ee5fd90",
   "outputs": [
    {
     "name": "stderr",
     "output_type": "stream",
     "text": [
      "Ignoring wrong pointing object 1 0 (offset 0)\n",
      "Ignoring wrong pointing object 1 0 (offset 0)\n",
      "Ignoring wrong pointing object 1 0 (offset 0)\n",
      "Ignoring wrong pointing object 1 0 (offset 0)\n"
     ]
    }
   ],
   "execution_count": 14
  },
  {
   "metadata": {
    "ExecuteTime": {
     "end_time": "2024-12-19T09:52:23.497173Z",
     "start_time": "2024-12-19T09:52:23.492166Z"
    }
   },
   "cell_type": "code",
   "source": "print(tables)",
   "id": "8240b96ff52de8a2",
   "outputs": [
    {
     "name": "stdout",
     "output_type": "stream",
     "text": [
      "<TableList n=6>\n"
     ]
    }
   ],
   "execution_count": 15
  },
  {
   "metadata": {
    "ExecuteTime": {
     "end_time": "2024-12-19T09:52:24.480485Z",
     "start_time": "2024-12-19T09:52:24.467485Z"
    }
   },
   "cell_type": "code",
   "source": [
    "for index, table in enumerate(tables):\n",
    "    table.df.to_csv('table_' + str(index) + '.csv', index=False)"
   ],
   "id": "87c93706324c0029",
   "outputs": [],
   "execution_count": 16
  },
  {
   "metadata": {},
   "cell_type": "code",
   "outputs": [],
   "execution_count": null,
   "source": "",
   "id": "712d066df2c040bf"
  }
 ],
 "metadata": {
  "kernelspec": {
   "display_name": "Python 3",
   "language": "python",
   "name": "python3"
  },
  "language_info": {
   "codemirror_mode": {
    "name": "ipython",
    "version": 2
   },
   "file_extension": ".py",
   "mimetype": "text/x-python",
   "name": "python",
   "nbconvert_exporter": "python",
   "pygments_lexer": "ipython2",
   "version": "2.7.6"
  }
 },
 "nbformat": 4,
 "nbformat_minor": 5
}
