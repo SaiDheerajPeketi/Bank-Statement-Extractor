{
 "cells": [
  {
   "cell_type": "code",
   "id": "initial_id",
   "metadata": {
    "collapsed": true,
    "ExecuteTime": {
     "end_time": "2024-12-19T09:59:36.200086Z",
     "start_time": "2024-12-19T09:59:36.183081Z"
    }
   },
   "source": [
    "import camelot\n",
    "import pandas as pd\n",
    "from openpyxl import load_workbook\n",
    "from openpyxl.utils import get_column_letter    \n",
    "from openpyxl import Workbook"
   ],
   "outputs": [],
   "execution_count": 20
  },
  {
   "metadata": {
    "ExecuteTime": {
     "end_time": "2024-12-19T09:59:36.953781Z",
     "start_time": "2024-12-19T09:59:36.945793Z"
    }
   },
   "cell_type": "code",
   "source": [
    "pdf_file_name = 'test.pdf'\n",
    "excel_file_name = 'extracted_tables.xlsx'\n",
    "bank_name = 'Bank0'"
   ],
   "id": "1e94d0780ee5fd90",
   "outputs": [],
   "execution_count": 21
  },
  {
   "metadata": {
    "ExecuteTime": {
     "end_time": "2024-12-19T10:10:57.268631Z",
     "start_time": "2024-12-19T10:10:56.079166Z"
    }
   },
   "cell_type": "code",
   "source": "tables = camelot.read_pdf(pdf_file_name, pages='all', flavor='stream')",
   "id": "32bf74ff224df839",
   "outputs": [
    {
     "name": "stderr",
     "output_type": "stream",
     "text": [
      "Ignoring wrong pointing object 1 0 (offset 0)\n",
      "Ignoring wrong pointing object 1 0 (offset 0)\n",
      "Ignoring wrong pointing object 1 0 (offset 0)\n",
      "Ignoring wrong pointing object 1 0 (offset 0)\n"
     ]
    }
   ],
   "execution_count": 31
  },
  {
   "metadata": {
    "ExecuteTime": {
     "end_time": "2024-12-19T10:10:57.969844Z",
     "start_time": "2024-12-19T10:10:57.955843Z"
    }
   },
   "cell_type": "code",
   "source": "print(tables)",
   "id": "8240b96ff52de8a2",
   "outputs": [
    {
     "name": "stdout",
     "output_type": "stream",
     "text": [
      "<TableList n=6>\n"
     ]
    }
   ],
   "execution_count": 32
  },
  {
   "metadata": {
    "ExecuteTime": {
     "end_time": "2024-12-19T10:10:58.642345Z",
     "start_time": "2024-12-19T10:10:58.629346Z"
    }
   },
   "cell_type": "code",
   "source": [
    "# Create a new csv file and write tables to separate csv files\n",
    "for index, table in enumerate(tables):\n",
    "    table.df.to_csv('table_' + str(index) + '.csv', index=False)"
   ],
   "id": "87c93706324c0029",
   "outputs": [],
   "execution_count": 33
  },
  {
   "metadata": {
    "ExecuteTime": {
     "end_time": "2024-12-19T10:10:59.339278Z",
     "start_time": "2024-12-19T10:10:59.254742Z"
    }
   },
   "cell_type": "code",
   "source": [
    "# Create a new Excel workbook and write tables to separate sheets\n",
    "with pd.ExcelWriter(excel_file_name, engine='openpyxl') as writer:\n",
    "    for index, table in enumerate(tables):\n",
    "        # Convert table to DataFrame\n",
    "        df = table.df\n",
    "        \n",
    "        # Write each DataFrame to a different sheet\n",
    "        sheet_name = f'Table_{index + 1}'\n",
    "        df.to_excel(writer, sheet_name=sheet_name, index=False)\n",
    "        \n",
    "        # Access the worksheet through writer.sheets\n",
    "        worksheet = writer.sheets[sheet_name]\n",
    "        \n",
    "        # Adjust column widths\n",
    "        for col_idx, col_cells in enumerate(df.columns, start=1):\n",
    "            max_length = max(df[col_cells].astype(str).apply(len).max(), col_cells)\n",
    "            adjusted_width = max_length + 2  # Adding some padding\n",
    "            worksheet.column_dimensions[get_column_letter(col_idx)].width = adjusted_width\n",
    "\n",
    "print(f\"All tables have been extracted and saved to {excel_file_name}.\")"
   ],
   "id": "712d066df2c040bf",
   "outputs": [
    {
     "name": "stdout",
     "output_type": "stream",
     "text": [
      "All tables have been extracted and saved to extracted_tables.xlsx.\n"
     ]
    }
   ],
   "execution_count": 34
  },
  {
   "metadata": {},
   "cell_type": "markdown",
   "source": "## Bank 0",
   "id": "f405e7243faaae4c"
  },
  {
   "metadata": {
    "ExecuteTime": {
     "end_time": "2024-12-19T10:26:34.508295Z",
     "start_time": "2024-12-19T10:26:34.502289Z"
    }
   },
   "cell_type": "code",
   "source": "user_name = 'SAI DHEERAJ PEKETI'",
   "id": "f394369ece3c5be5",
   "outputs": [],
   "execution_count": 38
  },
  {
   "metadata": {
    "ExecuteTime": {
     "end_time": "2024-12-19T11:23:47.147073Z",
     "start_time": "2024-12-19T11:23:47.134069Z"
    }
   },
   "cell_type": "code",
   "source": [
    "import re\n",
    "\n",
    "def is_valid_date(text):\n",
    "    \"\"\"\n",
    "    Checks if the given text matches the DD-MM-YYYY date format.\n",
    "\n",
    "    Args:\n",
    "        text (str): The text to validate.\n",
    "\n",
    "    Returns:\n",
    "        bool: True if the text matches the date format, False otherwise.\n",
    "    \"\"\"\n",
    "    date_pattern = r'^\\d{2}-\\d{2}-\\d{4}$'\n",
    "    return bool(re.match(date_pattern, text)) or text == ''"
   ],
   "id": "f2078205969007bf",
   "outputs": [],
   "execution_count": 67
  },
  {
   "metadata": {
    "ExecuteTime": {
     "end_time": "2024-12-19T11:25:42.065097Z",
     "start_time": "2024-12-19T11:25:42.044097Z"
    }
   },
   "cell_type": "code",
   "source": [
    "for index, table in enumerate(tables):\n",
    "    if table.df[0][0] == user_name:\n",
    "        print(f'Table_{index + 1}: {table.df.shape[1]}')\n",
    "        current_table_df = table.df.iloc[2:].reset_index(drop=True)\n",
    "        print(current_table_df.columns)\n",
    "        table_columns = ['DATE', 'NARRATION', 'CHQ.NO.', 'WITHDRAWAL (DR)', 'DEPOSIT (CR)', 'BALANCE']\n",
    "        if table.df.shape[1] == 7:\n",
    "            current_table_df.loc[current_table_df[1] != '', 2] = current_table_df[1]\n",
    "            current_table_df.drop([1], axis=1, inplace=True)\n",
    "        elif table.df.shape[1] == 6:\n",
    "            invalid_dates = ~current_table_df[0].apply(is_valid_date)\n",
    "            current_table_df.loc[invalid_dates, 1] = current_table_df.loc[invalid_dates, 0]\n",
    "            current_table_df.loc[invalid_dates, 0] = ''\n",
    "        current_table_df.reset_index(drop=True, inplace=True)\n",
    "        current_table_df.columns = table_columns\n",
    "        current_table_df.to_csv('table_' + str(index) + '.csv', index=False)\n",
    "            "
   ],
   "id": "7ac557abf5294654",
   "outputs": [
    {
     "name": "stdout",
     "output_type": "stream",
     "text": [
      "Table_2: 7\n",
      "RangeIndex(start=0, stop=7, step=1)\n",
      "Table_3: 6\n",
      "RangeIndex(start=0, stop=6, step=1)\n",
      "Table_4: 7\n",
      "RangeIndex(start=0, stop=7, step=1)\n"
     ]
    }
   ],
   "execution_count": 72
  },
  {
   "metadata": {},
   "cell_type": "code",
   "outputs": [],
   "execution_count": null,
   "source": "",
   "id": "e1c8640d63223b3f"
  }
 ],
 "metadata": {
  "kernelspec": {
   "display_name": "Python 3",
   "language": "python",
   "name": "python3"
  },
  "language_info": {
   "codemirror_mode": {
    "name": "ipython",
    "version": 2
   },
   "file_extension": ".py",
   "mimetype": "text/x-python",
   "name": "python",
   "nbconvert_exporter": "python",
   "pygments_lexer": "ipython2",
   "version": "2.7.6"
  }
 },
 "nbformat": 4,
 "nbformat_minor": 5
}
